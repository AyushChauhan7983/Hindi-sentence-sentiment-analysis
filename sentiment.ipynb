{
 "cells": [
  {
   "cell_type": "code",
   "execution_count": 1,
   "id": "0d5d003f",
   "metadata": {},
   "outputs": [],
   "source": [
    "import pandas as pd\n",
    "import codecs\n",
    "from nltk.tokenize import word_tokenize\n",
    "from sklearn.metrics import accuracy_score\n",
    "from sklearn.metrics import f1_score\n",
    "import re"
   ]
  },
  {
   "cell_type": "code",
   "execution_count": 2,
   "id": "c5fb36aa",
   "metadata": {},
   "outputs": [],
   "source": [
    "data = pd.read_csv(\"HindiSentiWordnet.txt\", delimiter=' ')\n",
    "\n",
    "fields = ['POS_TAG', 'ID', 'POS', 'NEG', 'LIST_OF_WORDS']"
   ]
  },
  {
   "cell_type": "code",
   "execution_count": 3,
   "id": "add45e9a",
   "metadata": {},
   "outputs": [],
   "source": [
    "# Creating a dictionary which contain a tuple for every word. Tuple contains a list of synonyms,\n",
    "# positive score and negative score for that word.\n",
    "words_dict = {}\n",
    "for i in data.index:\n",
    "    words = data[fields[4]][i].split(',')\n",
    "    for word in words:\n",
    "        words_dict[word] = (data[fields[0]][i],\n",
    "                            data[fields[2]][i], data[fields[3]][i])"
   ]
  },
  {
   "cell_type": "code",
   "execution_count": 8,
   "id": "d57b2a75",
   "metadata": {},
   "outputs": [],
   "source": [
    "# This function determines sentiment of text.\n",
    "def sentiment(text):\n",
    "    words = word_tokenize(text)\n",
    "    votes = []\n",
    "    pos_polarity = 0\n",
    "    neg_polarity = 0\n",
    "    # adverbs, nouns, adjective, verb are only used\n",
    "    allowed_words = ['a', 'v', 'r', 'n']\n",
    "    for word in words:\n",
    "        if word in words_dict:\n",
    "            # if word in dictionary, it picks up the positive and negative score of the word\n",
    "            pos_tag, pos, neg = words_dict[word]\n",
    "            # print(word, pos_tag, pos, neg)\n",
    "            if pos_tag in allowed_words:\n",
    "                if pos > neg:\n",
    "                    pos_polarity += pos\n",
    "                    votes.append(1)\n",
    "                elif neg > pos:\n",
    "                    neg_polarity += neg\n",
    "                    votes.append(0)\n",
    "    # calculating the no. of positive and negative words in total in a review to give class labels\n",
    "    pos_votes = votes.count(1)\n",
    "    neg_votes = votes.count(0)\n",
    "    if pos_votes > neg_votes:\n",
    "        return 1\n",
    "    elif neg_votes > pos_votes:\n",
    "        return 0\n",
    "    else:\n",
    "        if pos_polarity < neg_polarity:\n",
    "            return 0\n",
    "        else:\n",
    "            return 1\n",
    "        \n",
    "#1 = positive\n",
    "#0 = negative"
   ]
  },
  {
   "cell_type": "code",
   "execution_count": 5,
   "id": "2ee674b0",
   "metadata": {},
   "outputs": [],
   "source": [
    "pred_y = []\n",
    "actual_y = []"
   ]
  },
  {
   "cell_type": "code",
   "execution_count": 6,
   "id": "430c0780",
   "metadata": {},
   "outputs": [
    {
     "name": "stdout",
     "output_type": "stream",
     "text": [
      "505\n",
      "999\n",
      "53.653653653653656\n",
      "F-measure:   0.5299492385786803\n"
     ]
    }
   ],
   "source": [
    "# to calculate accuracy\n",
    "pos_reviews = codecs.open(\"pos_hindi.txt\", \"r\",\n",
    "                          encoding='utf-8', errors='ignore').read()\n",
    "for line in pos_reviews.split('$'):\n",
    "    data = line.strip('\\n')\n",
    "    if data:\n",
    "        pred_y.append(sentiment(data))\n",
    "        actual_y.append(1)\n",
    "\n",
    "print(len(actual_y))\n",
    "neg_reviews = codecs.open(\"neg_hindi.txt\", \"r\",\n",
    "                          encoding='utf-8', errors='ignore').read()\n",
    "for line in neg_reviews.split('$'):\n",
    "    data = line.strip('\\n')\n",
    "    if data:\n",
    "        pred_y.append(sentiment(data))\n",
    "        actual_y.append(0)\n",
    "print(len(actual_y))\n",
    "print(accuracy_score(actual_y, pred_y) * 100)\n",
    "print('F-measure:  ', f1_score(actual_y, pred_y))"
   ]
  },
  {
   "cell_type": "code",
   "execution_count": 7,
   "id": "b06e8148",
   "metadata": {},
   "outputs": [
    {
     "data": {
      "text/plain": [
       "1"
      ]
     },
     "execution_count": 7,
     "metadata": {},
     "output_type": "execute_result"
    }
   ],
   "source": [
    "sentiment(\"आ हा ! ! ! क्या बात है\")"
   ]
  },
  {
   "cell_type": "code",
   "execution_count": 9,
   "id": "bd05c789",
   "metadata": {},
   "outputs": [
    {
     "data": {
      "text/plain": [
       "0"
      ]
     },
     "execution_count": 9,
     "metadata": {},
     "output_type": "execute_result"
    }
   ],
   "source": [
    "sentiment(\"क्या बेकार की बातें कर रहे हो\")"
   ]
  }
 ],
 "metadata": {
  "kernelspec": {
   "display_name": "Python 3 (ipykernel)",
   "language": "python",
   "name": "python3"
  },
  "language_info": {
   "codemirror_mode": {
    "name": "ipython",
    "version": 3
   },
   "file_extension": ".py",
   "mimetype": "text/x-python",
   "name": "python",
   "nbconvert_exporter": "python",
   "pygments_lexer": "ipython3",
   "version": "3.9.6"
  }
 },
 "nbformat": 4,
 "nbformat_minor": 5
}
